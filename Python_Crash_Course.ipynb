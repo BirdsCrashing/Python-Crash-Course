{
  "nbformat": 4,
  "nbformat_minor": 0,
  "metadata": {
    "colab": {
      "provenance": [],
      "mount_file_id": "1fQW5JL0i6ZH_DwgGU8rvGCwvSs60VKbO",
      "authorship_tag": "ABX9TyPeel0RQKjjANPdHKqqxnK8"
    },
    "kernelspec": {
      "name": "python3",
      "display_name": "Python 3"
    },
    "language_info": {
      "name": "python"
    }
  },
  "cells": [
    {
      "cell_type": "code",
      "execution_count": 15,
      "metadata": {
        "id": "E9di8cdA_i1a",
        "colab": {
          "base_uri": "https://localhost:8080/"
        },
        "outputId": "df4811be-0688-4d6e-d4c7-fba59f72122e"
      },
      "outputs": [
        {
          "output_type": "stream",
          "name": "stdout",
          "text": [
            "ada wong\n",
            "ada wong BITCH\n",
            "Hello my name is ADA WONG BITCH and you are a bitch\n"
          ]
        }
      ],
      "source": [
        "first_name = \"ada\"\n",
        "last_name = \"wong\"\n",
        "\n",
        "full_name = first_name + \" \" + last_name\n",
        "print(full_name)\n",
        "\n",
        "full_name = f\"{first_name} {last_name} BITCH\"\n",
        "print(full_name)\n",
        "\n",
        "print(f\"Hello my name is {full_name.} and you are a bitch\")"
      ]
    },
    {
      "cell_type": "markdown",
      "source": [
        "# name_cases"
      ],
      "metadata": {
        "id": "gVbmIIahga2r"
      }
    },
    {
      "cell_type": "code",
      "source": [
        "name = \"parker HAnsen\"\n",
        "print(f\"Hello {name}, would you like to learn some Python today?\")"
      ],
      "metadata": {
        "colab": {
          "base_uri": "https://localhost:8080/"
        },
        "id": "scRkFdsegfz1",
        "outputId": "26a13645-59a6-4931-d9f4-2e0d091e9186"
      },
      "execution_count": 21,
      "outputs": [
        {
          "output_type": "stream",
          "name": "stdout",
          "text": [
            "Hello parker HAnsen, would you like to learn some Python today?\n"
          ]
        }
      ]
    },
    {
      "cell_type": "code",
      "source": [
        "print(name.upper())\n",
        "print(name.lower())\n",
        "print(name.title())"
      ],
      "metadata": {
        "colab": {
          "base_uri": "https://localhost:8080/"
        },
        "id": "AUoLJPbLgwFZ",
        "outputId": "5243be44-6976-4ae5-d8e3-1a237f109f6c"
      },
      "execution_count": 22,
      "outputs": [
        {
          "output_type": "stream",
          "name": "stdout",
          "text": [
            "PARKER HANSEN\n",
            "parker hansen\n",
            "Parker Hansen\n"
          ]
        }
      ]
    },
    {
      "cell_type": "code",
      "source": [],
      "metadata": {
        "id": "tuRqBpcPhLdL"
      },
      "execution_count": null,
      "outputs": []
    }
  ]
}