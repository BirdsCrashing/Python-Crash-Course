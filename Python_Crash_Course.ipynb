{
  "nbformat": 4,
  "nbformat_minor": 0,
  "metadata": {
    "colab": {
      "provenance": [],
      "authorship_tag": "ABX9TyMU5+oXlga5a5tuXBTs/5bR",
      "include_colab_link": true
    },
    "kernelspec": {
      "name": "python3",
      "display_name": "Python 3"
    },
    "language_info": {
      "name": "python"
    }
  },
  "cells": [
    {
      "cell_type": "markdown",
      "metadata": {
        "id": "view-in-github",
        "colab_type": "text"
      },
      "source": [
        "<a href=\"https://colab.research.google.com/github/BirdsCrashing/Python-Crash-Course/blob/main/Python_Crash_Course.ipynb\" target=\"_parent\"><img src=\"https://colab.research.google.com/assets/colab-badge.svg\" alt=\"Open In Colab\"/></a>"
      ]
    },
    {
      "cell_type": "code",
      "execution_count": 2,
      "metadata": {
        "id": "E9di8cdA_i1a",
        "colab": {
          "base_uri": "https://localhost:8080/"
        },
        "outputId": "a19cc90c-58ce-4ecb-dbc3-b4339f2babb7"
      },
      "outputs": [
        {
          "output_type": "stream",
          "name": "stdout",
          "text": [
            "Hello\n",
            "Goodbye\n"
          ]
        }
      ],
      "source": [
        "message = \"Hello\"\n",
        "print(message)\n",
        "\n",
        "message = \"Goodbye\"\n",
        "print(message)"
      ]
    }
  ]
}